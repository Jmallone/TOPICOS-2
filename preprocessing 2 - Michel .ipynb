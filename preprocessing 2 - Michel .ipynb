{
 "cells": [
  {
   "cell_type": "code",
   "execution_count": 4,
   "id": "4c15d0a0",
   "metadata": {
    "scrolled": true
   },
   "outputs": [],
   "source": [
    "# import das bibliotecas\n",
    "\n",
    "%matplotlib inline\n",
    "import matplotlib.pyplot as plt\n",
    "from matplotlib import rcParams\n",
    "import numpy as np\n",
    "from scipy import signal\n",
    "from glob import glob\n",
    "rcParams['figure.figsize'] = [16., 5.]"
   ]
  },
  {
   "cell_type": "code",
   "execution_count": 2,
   "id": "0aee4316",
   "metadata": {},
   "outputs": [],
   "source": [
    "# definições de filtros\n",
    "\n",
    "def butter_bandpass(data, lowcut, highcut, fs=200, order=4):\n",
    "    nyq = fs * 0.5\n",
    "    low = lowcut / nyq\n",
    "    high = highcut / nyq\n",
    "    b, a = signal.butter(order, [low, high], btype='bandpass')\n",
    "    return signal.filtfilt(b, a, data)\n",
    "\n",
    "def butter_lowpass(data, lowcut, fs=200, order=4):\n",
    "    nyq = fs * 0.5\n",
    "    low = lowcut / nyq\n",
    "    b, a = signal.butter(order, low, btype='lowpass')\n",
    "    return signal.filtfilt(b, a, data)\n",
    "\n",
    "def butter_highpass(data, highcut, fs=200, order=4):\n",
    "    nyq = fs * 0.5\n",
    "    high = highcut / nyq\n",
    "    b, a = signal.butter(order, high, btype='highpass')\n",
    "    return signal.filtfilt(b, a, data)\n",
    "\n",
    "def butter_notch(data, cutoff, var=1, fs=200, order=4):\n",
    "    nyq = fs * 0.5\n",
    "    low = (cutoff - var) / nyq\n",
    "    high = (cutoff + var) / nyq\n",
    "    b, a = signal.iirfilter(order, [low, high], btype='bandstop', ftype=\"butter\")\n",
    "    return signal.filtfilt(b, a, data)"
   ]
  },
  {
   "cell_type": "code",
   "execution_count": 5,
   "id": "5109a32c",
   "metadata": {
    "scrolled": true
   },
   "outputs": [
    {
     "data": {
      "text/plain": [
       "['p1_3_29-03-2022_14:57:12.npy',\n",
       " 'p1_2_29-03-2022_14:54:03.npy',\n",
       " 'p1_1_29-03-2022_14:51:01.npy']"
      ]
     },
     "execution_count": 5,
     "metadata": {},
     "output_type": "execute_result"
    }
   ],
   "source": [
    "dirs = [ i.split(\"/\")[-1] for i in glob('../Tutoriais/sEMG/datasets/topicos_cc/p1*')]\n",
    "dirs"
   ]
  },
  {
   "cell_type": "code",
   "execution_count": 6,
   "id": "3b1243aa",
   "metadata": {},
   "outputs": [],
   "source": [
    "def loadSujeito(dirs):\n",
    "    data = np.load(\"../Tutoriais/sEMG/datasets/topicos_cc/\"+dirs)\n",
    "    data = np.transpose(data, (0, 2, 1))\n",
    "    data_filtered = butter_notch(data, 60)\n",
    "    data_filtered = butter_highpass(data_filtered, 5)\n",
    "    data_filtered = butter_lowpass(data_filtered, 50)\n",
    "    \n",
    "    return data_filtered"
   ]
  },
  {
   "cell_type": "code",
   "execution_count": 7,
   "id": "2a58e22a",
   "metadata": {},
   "outputs": [],
   "source": [
    "data_s1 = loadSujeito('p1_3_29-03-2022_14:57:12.npy')"
   ]
  },
  {
   "cell_type": "code",
   "execution_count": 15,
   "id": "c20edd1f",
   "metadata": {},
   "outputs": [
    {
     "data": {
      "text/plain": [
       "(8, 4, 1600)"
      ]
     },
     "execution_count": 15,
     "metadata": {},
     "output_type": "execute_result"
    }
   ],
   "source": [
    "'''\n",
    "    (8, 4, 1600)\n",
    "    \n",
    "    8 = Numero de Classe\n",
    "    4 = Canais\n",
    "    1600 = Quantidade de Linhas (Exemplos)\n",
    "\n",
    "    3 trials * 8 \n",
    "    (24, 4, 600)\n",
    "\n",
    "'''\n",
    "\n",
    "data_s1.shape"
   ]
  },
  {
   "cell_type": "code",
   "execution_count": 36,
   "id": "c9ef142e",
   "metadata": {},
   "outputs": [],
   "source": [
    "data = []\n",
    "for d in dirs:\n",
    "    data.append(loadSujeito(d))"
   ]
  },
  {
   "cell_type": "markdown",
   "id": "2d773d67",
   "metadata": {},
   "source": [
    "**Desafio 1:**"
   ]
  },
  {
   "cell_type": "code",
   "execution_count": 41,
   "id": "b3812055",
   "metadata": {
    "scrolled": false
   },
   "outputs": [
    {
     "data": {
      "text/plain": [
       "(24, 4, 1600)"
      ]
     },
     "execution_count": 41,
     "metadata": {},
     "output_type": "execute_result"
    }
   ],
   "source": [
    "final = np.concatenate((data), axis=0)\n",
    "final.shape"
   ]
  },
  {
   "cell_type": "markdown",
   "id": "35623565",
   "metadata": {},
   "source": [
    "**Desafio 2:**"
   ]
  },
  {
   "cell_type": "markdown",
   "id": "af274178",
   "metadata": {},
   "source": [
    "```\n",
    "   1 - Flexão de punho (fechar a mão);\n",
    "   2 - Extensão de punho (abrir a mão);\n",
    "   3 - Pinça (segurar objeto pequeno);\n",
    "   4 - Segurar cartão;\n",
    "   5 - Segurar caneta;\n",
    "   6 - Segurar esfera;\n",
    "   7 - Segurar copo;\n",
    "   8 - Gancho (segurar objeto com alça).\n",
    "```"
   ]
  },
  {
   "cell_type": "code",
   "execution_count": 44,
   "id": "d972e84e",
   "metadata": {},
   "outputs": [
    {
     "data": {
      "text/plain": [
       "[0, 1, 2, 3, 4, 5, 6, 7]"
      ]
     },
     "execution_count": 44,
     "metadata": {},
     "output_type": "execute_result"
    }
   ],
   "source": [
    "classes = list(range(0,8))\n",
    "classes"
   ]
  },
  {
   "cell_type": "code",
   "execution_count": 102,
   "id": "58c9a4cc",
   "metadata": {},
   "outputs": [],
   "source": [
    "rotulos = []\n",
    "for c in classes:\n",
    "    for _ in range(0,1600):\n",
    "        rotulos.append(c)"
   ]
  },
  {
   "cell_type": "code",
   "execution_count": 141,
   "id": "663b467b",
   "metadata": {},
   "outputs": [
    {
     "data": {
      "text/plain": [
       "(12800,)"
      ]
     },
     "execution_count": 141,
     "metadata": {},
     "output_type": "execute_result"
    }
   ],
   "source": [
    "x = np.array(rotulos)\n",
    "x.shape"
   ]
  },
  {
   "cell_type": "code",
   "execution_count": 142,
   "id": "be0c233b",
   "metadata": {},
   "outputs": [],
   "source": [
    "y = np.concatenate((x, x, x), axis=0)"
   ]
  },
  {
   "cell_type": "code",
   "execution_count": 143,
   "id": "29245d3d",
   "metadata": {},
   "outputs": [
    {
     "data": {
      "text/plain": [
       "(38400,)"
      ]
     },
     "execution_count": 143,
     "metadata": {},
     "output_type": "execute_result"
    }
   ],
   "source": [
    "y.shape"
   ]
  },
  {
   "cell_type": "code",
   "execution_count": 144,
   "id": "ef4f5329",
   "metadata": {},
   "outputs": [
    {
     "data": {
      "text/plain": [
       "7"
      ]
     },
     "execution_count": 144,
     "metadata": {},
     "output_type": "execute_result"
    }
   ],
   "source": [
    "y[-1]"
   ]
  },
  {
   "cell_type": "markdown",
   "id": "cd8f0f22",
   "metadata": {},
   "source": [
    "# Codigos de teste [Sandbox]"
   ]
  },
  {
   "cell_type": "code",
   "execution_count": 27,
   "id": "564ef389",
   "metadata": {},
   "outputs": [],
   "source": [
    "x = np.array([[1, 2], [3, 4]])\n",
    "y = np.array([[5, 6], [7, 8]])\n"
   ]
  },
  {
   "cell_type": "code",
   "execution_count": 37,
   "id": "25d929a6",
   "metadata": {
    "scrolled": true
   },
   "outputs": [
    {
     "data": {
      "text/plain": [
       "array([[1, 2],\n",
       "       [3, 4],\n",
       "       [5, 6],\n",
       "       [7, 8],\n",
       "       [5, 6],\n",
       "       [7, 8]])"
      ]
     },
     "execution_count": 37,
     "metadata": {},
     "output_type": "execute_result"
    }
   ],
   "source": [
    "a = np.concatenate((x, y, y), axis=0)\n",
    "a"
   ]
  },
  {
   "cell_type": "code",
   "execution_count": 61,
   "id": "643be678",
   "metadata": {
    "scrolled": true
   },
   "outputs": [
    {
     "data": {
      "text/plain": [
       "(8, 4, 1600)"
      ]
     },
     "execution_count": 61,
     "metadata": {},
     "output_type": "execute_result"
    }
   ],
   "source": [
    "data_s1.shape\n"
   ]
  },
  {
   "cell_type": "code",
   "execution_count": 62,
   "id": "51d8da7f",
   "metadata": {},
   "outputs": [
    {
     "data": {
      "text/plain": [
       "12800"
      ]
     },
     "execution_count": 62,
     "metadata": {},
     "output_type": "execute_result"
    }
   ],
   "source": [
    "8*1600"
   ]
  },
  {
   "cell_type": "code",
   "execution_count": null,
   "id": "db358fd4",
   "metadata": {},
   "outputs": [],
   "source": [
    "'''\n",
    "Sujeito 1\n",
    "\n",
    "Rotulos: \n",
    "            0\n",
    "            0\n",
    "            0\n",
    "            0\n",
    "            0\n",
    "            0\n",
    "            ...\n",
    "            1600 Vezes\n",
    "            1\n",
    "            1\n",
    "            1\n",
    "            1\n",
    "            1\n",
    "            1\n",
    "            1600 Vezes\n",
    "            ...\n",
    "            7\n",
    "'''"
   ]
  },
  {
   "cell_type": "code",
   "execution_count": 125,
   "id": "10701b70",
   "metadata": {},
   "outputs": [],
   "source": [
    "rotulos = []\n",
    "for c in classes:\n",
    "    for _ in range(0,1600):\n",
    "        rotulos.append(c)"
   ]
  },
  {
   "cell_type": "code",
   "execution_count": 97,
   "id": "ff373170",
   "metadata": {},
   "outputs": [
    {
     "data": {
      "text/plain": [
       "38400"
      ]
     },
     "execution_count": 97,
     "metadata": {},
     "output_type": "execute_result"
    }
   ],
   "source": [
    "8*1600*3"
   ]
  },
  {
   "cell_type": "code",
   "execution_count": 131,
   "id": "ccea85d4",
   "metadata": {},
   "outputs": [
    {
     "data": {
      "text/plain": [
       "7"
      ]
     },
     "execution_count": 131,
     "metadata": {},
     "output_type": "execute_result"
    }
   ],
   "source": [
    "x = np.array(rotulos)\n",
    "x.shape\n",
    "x[12799]"
   ]
  },
  {
   "cell_type": "code",
   "execution_count": 132,
   "id": "acc56d0a",
   "metadata": {},
   "outputs": [],
   "source": [
    "y = np.concatenate((x, x, x), axis=0)"
   ]
  },
  {
   "cell_type": "code",
   "execution_count": 133,
   "id": "d8c8c880",
   "metadata": {
    "scrolled": true
   },
   "outputs": [
    {
     "data": {
      "text/plain": [
       "(38400,)"
      ]
     },
     "execution_count": 133,
     "metadata": {},
     "output_type": "execute_result"
    }
   ],
   "source": [
    "y.shape"
   ]
  },
  {
   "cell_type": "code",
   "execution_count": 140,
   "id": "807398e0",
   "metadata": {},
   "outputs": [
    {
     "ename": "IndexError",
     "evalue": "index 51196 is out of bounds for axis 0 with size 38400",
     "output_type": "error",
     "traceback": [
      "\u001b[0;31m---------------------------------------------------------------------------\u001b[0m",
      "\u001b[0;31mIndexError\u001b[0m                                Traceback (most recent call last)",
      "Input \u001b[0;32mIn [140]\u001b[0m, in \u001b[0;36m<cell line: 1>\u001b[0;34m()\u001b[0m\n\u001b[0;32m----> 1\u001b[0m \u001b[43my\u001b[49m\u001b[43m[\u001b[49m\u001b[38;5;241;43m12799\u001b[39;49m\u001b[38;5;241;43m*\u001b[39;49m\u001b[38;5;241;43m4\u001b[39;49m\u001b[43m]\u001b[49m\n",
      "\u001b[0;31mIndexError\u001b[0m: index 51196 is out of bounds for axis 0 with size 38400"
     ]
    }
   ],
   "source": []
  }
 ],
 "metadata": {
  "kernelspec": {
   "display_name": "Python 3 (ipykernel)",
   "language": "python",
   "name": "python3"
  },
  "language_info": {
   "codemirror_mode": {
    "name": "ipython",
    "version": 3
   },
   "file_extension": ".py",
   "mimetype": "text/x-python",
   "name": "python",
   "nbconvert_exporter": "python",
   "pygments_lexer": "ipython3",
   "version": "3.8.10"
  }
 },
 "nbformat": 4,
 "nbformat_minor": 5
}
