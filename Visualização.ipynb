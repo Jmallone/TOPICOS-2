{
 "cells": [
  {
   "cell_type": "code",
   "execution_count": null,
   "id": "0c310aaf",
   "metadata": {},
   "outputs": [],
   "source": [
    "path = f'./datasets/topicos_cc/s{sujeito}.npy'"
   ]
  },
  {
   "cell_type": "code",
   "execution_count": 2,
   "id": "6e831787",
   "metadata": {},
   "outputs": [
    {
     "name": "stdout",
     "output_type": "stream",
     "text": [
      "['p1_2_29-03-2022_14:54:03.npy', 'p3_2_29-03-2022_15:29:54.npy', 'lembrete.txt', 'p2_1_29-03-2022_15:03:17.npy', 'p2_2_29-03-2022_15:11:10.npy', 'p3_1_29-03-2022_15:26:42.npy', 'p3_3_29-03-2022_15:33:07.npy', 'p1_3_29-03-2022_14:57:12.npy', 'p1_1_29-03-2022_14:51:01.npy', 'p2_3_29-03-2022_15:14:44.npy']\n"
     ]
    }
   ],
   "source": [
    "for _, _, arquivo in os.walk('./datasets/topicos_cc/'):\n",
    "    print(arquivo)"
   ]
  },
  {
   "cell_type": "code",
   "execution_count": 54,
   "id": "e30f64a4",
   "metadata": {},
   "outputs": [],
   "source": [
    "p1_1 = np.load('./datasets/topicos_cc/p1_1_29-03-2022_14:51:01.npy')\n",
    "\n",
    "p1_2 = np.load('./datasets/topicos_cc/p2_2_29-03-2022_15:11:10.npy')\n",
    "p1_3 = np.load('./datasets/topicos_cc/p2_3_29-03-2022_15:14:44.npy')"
   ]
  },
  {
   "cell_type": "code",
   "execution_count": 5,
   "id": "d0d48b8c",
   "metadata": {
    "scrolled": true
   },
   "outputs": [
    {
     "data": {
      "text/plain": [
       "(8, 1600, 4)"
      ]
     },
     "execution_count": 5,
     "metadata": {},
     "output_type": "execute_result"
    }
   ],
   "source": [
    "p1_1.shape"
   ]
  },
  {
   "cell_type": "markdown",
   "id": "2ee7bf95",
   "metadata": {},
   "source": [
    "```\n",
    "   1 - Flexão de punho (fechar a mão);\n",
    "   2 - Extensão de punho (abrir a mão);\n",
    "   3 - Pinça (segurar objeto pequeno);\n",
    "   4 - Segurar cartão;\n",
    "   5 - Segurar caneta;\n",
    "   6 - Segurar esfera;\n",
    "   7 - Segurar copo;\n",
    "   8 - Gancho (segurar objeto com alça).\n",
    "```"
   ]
  },
  {
   "cell_type": "code",
   "execution_count": 9,
   "id": "d2483a34",
   "metadata": {
    "scrolled": true
   },
   "outputs": [
    {
     "data": {
      "text/plain": [
       "(8, 1600, 4)"
      ]
     },
     "execution_count": 9,
     "metadata": {},
     "output_type": "execute_result"
    }
   ],
   "source": [
    "p1_1.shape"
   ]
  },
  {
   "cell_type": "code",
   "execution_count": 55,
   "id": "46caf133",
   "metadata": {},
   "outputs": [],
   "source": [
    "#data_1 = p1_1[0, :, 0]\n",
    "\n",
    "data_2 = p1_2[0, :, 0]\n",
    "data_3 = p1_3[0, :, 0]"
   ]
  },
  {
   "cell_type": "code",
   "execution_count": 12,
   "id": "d12265d1",
   "metadata": {},
   "outputs": [
    {
     "data": {
      "text/plain": [
       "(8, 4, 1600)"
      ]
     },
     "execution_count": 12,
     "metadata": {},
     "output_type": "execute_result"
    }
   ],
   "source": [
    "data.shape"
   ]
  },
  {
   "cell_type": "code",
   "execution_count": 24,
   "id": "ccb0796c",
   "metadata": {},
   "outputs": [
    {
     "data": {
      "text/plain": [
       "array([43.84845734, 39.50643158, 31.01312065, ..., 34.31171036,\n",
       "       37.3298111 , 49.09179688])"
      ]
     },
     "execution_count": 24,
     "metadata": {},
     "output_type": "execute_result"
    }
   ],
   "source": [
    "data_1[0][0] # Primeiro Trial do P1, Primeiro Movimento, Primeiro Canal\n",
    "data_2[0][0] # Segundo Trial do P1, Primeiro Movimento, Primeiro Canal"
   ]
  },
  {
   "cell_type": "code",
   "execution_count": 27,
   "id": "1841791a",
   "metadata": {
    "scrolled": false
   },
   "outputs": [
    {
     "name": "stderr",
     "output_type": "stream",
     "text": [
      "Matplotlib is building the font cache; this may take a moment.\n"
     ]
    }
   ],
   "source": [
    "import numpy as np\n",
    "import matplotlib.pyplot as plt"
   ]
  },
  {
   "cell_type": "code",
   "execution_count": 29,
   "id": "a8da4e24",
   "metadata": {},
   "outputs": [
    {
     "data": {
      "text/plain": [
       "(1600,)"
      ]
     },
     "execution_count": 29,
     "metadata": {},
     "output_type": "execute_result"
    }
   ],
   "source": [
    "t = np.linspace(0,8,1600)\n",
    "t.shape"
   ]
  },
  {
   "cell_type": "code",
   "execution_count": 56,
   "id": "3310655a",
   "metadata": {},
   "outputs": [
    {
     "data": {
      "image/png": "[encoded data removed]",
      "text/plain": [
       "<Figure size 432x288 with 2 Axes>"
      ]
     },
     "metadata": {
      "needs_background": "light"
     },
     "output_type": "display_data"
    }
   ],
   "source": [
    "fig, axs = plt.subplots(2, 1)\n",
    "\n",
    "\n",
    "axs[0].plot(t,data_2,t, data_3 )\n",
    "#axs[0].set_xlim(0, 2)\n",
    "axs[0].set_xlabel('time')\n",
    "axs[0].set_ylabel('s1 and s2')\n",
    "axs[0].grid(True)\n",
    "\n",
    "fig.tight_layout()\n",
    "plt.show()"
   ]
  }
 ],
 "metadata": {
  "kernelspec": {
   "display_name": "Python 3 (ipykernel)",
   "language": "python",
   "name": "python3"
  },
  "language_info": {
   "codemirror_mode": {
    "name": "ipython",
    "version": 3
   },
   "file_extension": ".py",
   "mimetype": "text/x-python",
   "name": "python",
   "nbconvert_exporter": "python",
   "pygments_lexer": "ipython3",
   "version": "3.9.2"
  }
 },
 "nbformat": 4,
 "nbformat_minor": 5
}
